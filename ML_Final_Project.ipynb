{
 "cells": [
  {
   "cell_type": "code",
   "execution_count": 197,
   "metadata": {},
   "outputs": [],
   "source": [
    "import numpy as np\n",
    "import matplotlib.pylab as plt\n",
    "import pickle\n",
    "from sklearn.metrics import precision_score\n",
    "from sklearn.tree import DecisionTreeClassifier\n",
    "import pandas as pd\n",
    "from time import time\n",
    "import math\n",
    "import random\n",
    "\n",
    "import os\n",
    "import re\n",
    "import nltk\n",
    "\n",
    "from sklearn.feature_extraction.text import CountVectorizer #count vectorizer\n",
    "from sklearn.model_selection import train_test_split #train est split\n",
    "\n",
    "from sklearn.pipeline import Pipeline #import the pipeline\n",
    "from sklearn.feature_extraction.text import TfidfVectorizer #import Tf idf Vectorizer\n",
    "\n",
    "from sklearn.linear_model import LogisticRegression #logistic regression \n",
    "from sklearn.svm import LinearSVC #logistic regression \n",
    "\n",
    "from sklearn.metrics import classification_report, plot_confusion_matrix #classification report\n",
    "\n",
    "%matplotlib inline "
   ]
  },
  {
   "cell_type": "code",
   "execution_count": 216,
   "metadata": {},
   "outputs": [
    {
     "name": "stdout",
     "output_type": "stream",
     "text": [
      "5000 words in vocabulary\n"
     ]
    }
   ],
   "source": [
    "#\n",
    "review_order = []\n",
    "\n",
    "with open('aclImdb/imdb.vocab') as f:\n",
    "    vocab = [word.rstrip() for word in f]\n",
    "    # Keep only most frequent 5000 words rather than all 90000\n",
    "    # Just saving memory - the long tail occurs too few times\n",
    "    # for the model to learn anything anyway\n",
    "    vocab = vocab[:5000]\n",
    "    print('%d words in vocabulary' % (len(vocab),))\n",
    "\n",
    "def text_tokens(text):\n",
    "    text = text.lower()\n",
    "    text = re.sub(\"\\\\s\", \" \", text)\n",
    "    text = re.sub(\"[^a-zA-Z' ]\", \"\", text)\n",
    "    tokens = text.split(' ')\n",
    "    return tokens\n",
    "\n",
    "def load_dataset(dirname):\n",
    "    X, y = [], []\n",
    "    # Review files: neg/0_3.txt neg/10000_4.txt neg/10001_4.txt ...\n",
    "    for y_val, y_label in enumerate(['neg', 'pos']):\n",
    "        y_dir = os.path.join(dirname, y_label)\n",
    "        for fname in os.listdir(y_dir):\n",
    "            review_order.append(fname)\n",
    "            fpath = os.path.join(y_dir, fname)\n",
    "            # print('\\r' + fpath + '   ', end='')\n",
    "            with open(fpath) as f:\n",
    "                tokens = text_tokens(f.read())\n",
    "            X.append(tokens)\n",
    "            y.append(y_val)  # 0 for 'neg', 1 for 'pos'\n",
    "#     print()\n",
    "    return X, y\n",
    "\n"
   ]
  },
  {
   "cell_type": "code",
   "execution_count": 199,
   "metadata": {},
   "outputs": [],
   "source": [
    "X_train, y_train = load_dataset('aclImdb/train/')\n",
    "X_val, y_val = load_dataset('aclImdb/test/')"
   ]
  },
  {
   "cell_type": "code",
   "execution_count": 200,
   "metadata": {},
   "outputs": [],
   "source": [
    "def bow_onehot_vector(tokens):\n",
    "    vector = [0] * len(vocab)\n",
    "    for t in tokens:\n",
    "        try:\n",
    "            vector[vocab.index(t)] = 1\n",
    "        except:\n",
    "            pass  # ignore missing words\n",
    "    return vector"
   ]
  },
  {
   "cell_type": "code",
   "execution_count": 201,
   "metadata": {},
   "outputs": [
    {
     "name": "stderr",
     "output_type": "stream",
     "text": [
      "100%|██████████| 25000/25000 [01:18<00:00, 320.17it/s]\n",
      "100%|██████████| 25000/25000 [01:14<00:00, 334.70it/s]\n"
     ]
    }
   ],
   "source": [
    "from tqdm import tqdm\n",
    "\n",
    "X_bow_train = [bow_onehot_vector(x) for x in tqdm(X_train)]\n",
    "X_bow_val = [bow_onehot_vector(x) for x in tqdm(X_val)]"
   ]
  },
  {
   "cell_type": "code",
   "execution_count": 202,
   "metadata": {},
   "outputs": [],
   "source": [
    "def best_train_history(history):\n",
    "    best_epoch = np.argmax(history.history['val_accuracy'])\n",
    "    print('Accuracy (epoch %d): %.4f train, %.4f val' % \\\n",
    "          (best_epoch + 1, history.history['accuracy'][best_epoch], history.history['val_accuracy'][best_epoch]))\n"
   ]
  },
  {
   "cell_type": "code",
   "execution_count": 203,
   "metadata": {},
   "outputs": [
    {
     "name": "stdout",
     "output_type": "stream",
     "text": [
      "Model: \"model_3\"\n",
      "_________________________________________________________________\n",
      " Layer (type)                Output Shape              Param #   \n",
      "=================================================================\n",
      " bow_input (InputLayer)      [(None, 5000)]            0         \n",
      "                                                                 \n",
      " dense_3 (Dense)             (None, 1)                 5001      \n",
      "                                                                 \n",
      " activation_3 (Activation)   (None, 1)                 0         \n",
      "                                                                 \n",
      "=================================================================\n",
      "Total params: 5,001\n",
      "Trainable params: 5,001\n",
      "Non-trainable params: 0\n",
      "_________________________________________________________________\n",
      "Fitting...\n",
      "Epoch 1/10\n",
      "782/782 [==============================] - 2s 2ms/step - loss: 0.4584 - accuracy: 0.8267 - val_loss: 0.3661 - val_accuracy: 0.8699\n",
      "Epoch 2/10\n",
      "782/782 [==============================] - 2s 2ms/step - loss: 0.3149 - accuracy: 0.8879 - val_loss: 0.3183 - val_accuracy: 0.8787\n",
      "Epoch 3/10\n",
      "782/782 [==============================] - 1s 2ms/step - loss: 0.2732 - accuracy: 0.9016 - val_loss: 0.3013 - val_accuracy: 0.8812\n",
      "Epoch 4/10\n",
      "782/782 [==============================] - 2s 2ms/step - loss: 0.2505 - accuracy: 0.9096 - val_loss: 0.2950 - val_accuracy: 0.8816\n",
      "Epoch 5/10\n",
      "782/782 [==============================] - 1s 2ms/step - loss: 0.2353 - accuracy: 0.9131 - val_loss: 0.2915 - val_accuracy: 0.8816\n",
      "Epoch 6/10\n",
      "782/782 [==============================] - 2s 2ms/step - loss: 0.2232 - accuracy: 0.9177 - val_loss: 0.2917 - val_accuracy: 0.8807\n",
      "Epoch 7/10\n",
      "782/782 [==============================] - 2s 3ms/step - loss: 0.2143 - accuracy: 0.9212 - val_loss: 0.2927 - val_accuracy: 0.8804\n",
      "Epoch 8/10\n",
      "782/782 [==============================] - 2s 2ms/step - loss: 0.2073 - accuracy: 0.9238 - val_loss: 0.2957 - val_accuracy: 0.8786\n",
      "Epoch 9/10\n",
      "782/782 [==============================] - 2s 2ms/step - loss: 0.2008 - accuracy: 0.9269 - val_loss: 0.2981 - val_accuracy: 0.8776\n",
      "Epoch 10/10\n",
      "782/782 [==============================] - 2s 2ms/step - loss: 0.1950 - accuracy: 0.9287 - val_loss: 0.3021 - val_accuracy: 0.8764\n",
      "Accuracy (epoch 4): 0.9096 train, 0.8816 val\n"
     ]
    }
   ],
   "source": [
    "from keras.layers import Activation, Dense, Input\n",
    "from keras.models import Model\n",
    "\n",
    "# print(typ)\n",
    "\n",
    "class BOWSentimentModel(object):\n",
    "    def __init__(self):\n",
    "        bow = Input(shape=(len(vocab),), name='bow_input')\n",
    "        # weights of all inputs\n",
    "        sentiment = Dense(1)(bow)\n",
    "        # normalize to [0, 1] range\n",
    "        sentiment = Activation('sigmoid')(sentiment)\n",
    "\n",
    "        self.model = Model(inputs=[bow], outputs=[sentiment])\n",
    "        self.model.summary()\n",
    "        self.model.compile(optimizer='adam', loss='binary_crossentropy', metrics=['accuracy'])\n",
    "\n",
    "    def train(self, X, y, X_val, y_val):\n",
    "        print('Fitting...')\n",
    "        return self.model.fit(np.array(X), np.array(y), validation_data=(np.array(X_val), np.array(y_val)), epochs=10, verbose=1)\n",
    "\n",
    "    def predict(self, X):\n",
    "        return self.model.predict(np.array(X))\n",
    "    \n",
    "sentiment = BOWSentimentModel()\n",
    "history = sentiment.train(X_bow_train, y_train, X_bow_val, y_val)\n",
    "best_train_history(history)"
   ]
  },
  {
   "cell_type": "code",
   "execution_count": 204,
   "metadata": {},
   "outputs": [
    {
     "name": "stdout",
     "output_type": "stream",
     "text": [
      "\n"
     ]
    }
   ],
   "source": [
    "print()"
   ]
  },
  {
   "cell_type": "code",
   "execution_count": 205,
   "metadata": {},
   "outputs": [
    {
     "name": "stdout",
     "output_type": "stream",
     "text": [
      "Good story about a backwoods community in the Ozarks around the turn of the century. Moonshine is the leading industry, fighting and funning the major form of entertainment. One day a stranger enters the community and causes a shake-up among the locals. Beautiful scenery adds much to the story.\n",
      "[0.745326]\n"
     ]
    }
   ],
   "source": [
    "test_text = 'Good story about a backwoods community in the Ozarks around the turn of the century. Moonshine is the leading industry, fighting and funning the major form of entertainment. One day a stranger enters the community and causes a shake-up among the locals. Beautiful scenery adds much to the story.'\n",
    "test_tokens = text_tokens(test_text)\n",
    "print(test_text)\n",
    "print(sentiment.predict([bow_onehot_vector(test_tokens)])[0])\n"
   ]
  },
  {
   "cell_type": "code",
   "execution_count": 206,
   "metadata": {},
   "outputs": [
    {
     "name": "stdout",
     "output_type": "stream",
     "text": [
      "Boring story about a backwoods community in the Ozarks around the turn of the century. Moonshine is the leading industry, fighting and funning the major form of entertainment. One day a stranger enters the community and causes a shake-up among the locals. Beautiful scenery does not add to the story.\n",
      "[0.36729568]\n"
     ]
    }
   ],
   "source": [
    "test_text = 'Boring story about a backwoods community in the Ozarks around the turn of the century. Moonshine is the leading industry, fighting and funning the major form of entertainment. One day a stranger enters the community and causes a shake-up among the locals. Beautiful scenery does not add to the story.'\n",
    "test_tokens = text_tokens(test_text)\n",
    "print(test_text)\n",
    "print(sentiment.predict([bow_onehot_vector(test_tokens)])[0])"
   ]
  },
  {
   "cell_type": "code",
   "execution_count": 207,
   "metadata": {},
   "outputs": [],
   "source": [
    "def plot_train_history(history):\n",
    "    plt.figure()\n",
    "    plt.plot(history.history['accuracy'])\n",
    "    plt.plot(history.history['val_accuracy'])\n",
    "    plt.xlabel('epoch')\n",
    "    plt.ylabel('accuracy')\n",
    "    plt.legend(['accuracy', 'val_accuracy'])\n",
    "    plt.show()"
   ]
  },
  {
   "cell_type": "code",
   "execution_count": 208,
   "metadata": {},
   "outputs": [
    {
     "data": {
      "image/png": "[encoded data removed]",
      "text/plain": [
       "<Figure size 432x288 with 1 Axes>"
      ]
     },
     "metadata": {
      "needs_background": "light"
     },
     "output_type": "display_data"
    }
   ],
   "source": [
    "plot_train_history(history)"
   ]
  },
  {
   "cell_type": "code",
   "execution_count": 209,
   "metadata": {},
   "outputs": [
    {
     "name": "stdout",
     "output_type": "stream",
     "text": [
      "7387\n",
      "0_2.txt\n",
      "12500\n"
     ]
    }
   ],
   "source": [
    "# path = \"C://Users//tobysavage//\"\n",
    "path = 'aclImdb/test/neg'\n",
    "dir_list = os.listdir(path)\n",
    "print(dir_list.index('0_2.txt'))\n",
    "print(dir_list[7387])\n",
    "# dir_list.sort()\n",
    "# print(dir_list)\n",
    "print(len(dir_list))\n"
   ]
  },
  {
   "cell_type": "code",
   "execution_count": 210,
   "metadata": {},
   "outputs": [],
   "source": [
    "# print(review_order[0:5])\n",
    "# print(len(review_order))\n",
    "# print(len(X_train))\n",
    "# print(review_order[24998:25005])\n",
    "# print(review_order[24999])\n",
    "\n",
    "# train\n",
    "neg_train_files = review_order[0:12500]\n",
    "pos_train_files = review_order[12500:25000]\n",
    "\n",
    "# test\n",
    "neg_test_files = review_order[25000:37500]\n",
    "pos_test_files = review_order[37500:]\n",
    "\n",
    "# print(review_order[12498:12502])\n",
    "# print(review_order[24998:25002])\n",
    "\n",
    "# print(pos_train_files[12499])\n",
    "# print(X_train[12499])\n",
    "# print(len(X_train))\n",
    "\n",
    "neg_train_counts = []\n",
    "\n",
    "neg_d = {}\n",
    "# i = X_train[0]\n",
    "for i in range(0, 12500):\n",
    "    for j in X_train[i]:\n",
    "        if j not in neg_d.keys():\n",
    "            neg_d[j] = 0\n",
    "        neg_d[j]+=1\n",
    "        \n",
    "pos_d = {}\n",
    "i = X_train[0]\n",
    "for i in range(12500, 25000):\n",
    "    for j in X_train[i]:\n",
    "        if j not in pos_d.keys():\n",
    "            pos_d[j] = 0\n",
    "        pos_d[j]+=1\n",
    "\n",
    "    \n",
    "# print(neg_d)\n",
    "\n",
    "pos_list = sorted([(key, value) for key, value in zip(pos_d.keys(), pos_d.values())], key = lambda x: -x[1])\n",
    "neg_list = sorted([(key, value) for key, value in zip(neg_d.keys(), neg_d.values())], key = lambda x: -x[1])\n",
    "\n",
    "# 1. Negtive reviews\n",
    "# count_vect = CountVectorizer(stop_words = 'english')\n",
    "# matrix = count_vect.fit_transform(X_train[0:12500])\n",
    "# freqs = zip(count_vect.get_feature_names(), matrix.sum(axis = 0).tolist()[0])\n",
    "# #print sorted words \n",
    "# print(sorted(freqs, key = lambda x: -x[1])[:20])            "
   ]
  },
  {
   "cell_type": "code",
   "execution_count": 291,
   "metadata": {},
   "outputs": [],
   "source": [
    "# RUN FROM HERE\n",
    "\n",
    "import os\n",
    "\n",
    "#################################\n",
    "\n",
    "directory = './aclImdb/train/pos'\n",
    "\n",
    "pos_reviews = []\n",
    "pos_sentiment = []\n",
    "\n",
    "for filename in os.listdir(directory):\n",
    "    f = os.path.join(directory, filename)\n",
    "    text = open(f, \"r\")\n",
    "    x = [i for i in text]\n",
    "    pos_reviews.append(x)\n",
    "    pos_sentiment.append('positive')\n",
    "    text.close()\n",
    "    \n",
    "#################################\n",
    "\n",
    "directory = './aclImdb/train/neg'\n",
    "\n",
    "neg_reviews = []\n",
    "neg_sentiment = []\n",
    "\n",
    "for filename in os.listdir(directory):\n",
    "    f = os.path.join(directory, filename)\n",
    "    text = open(f, \"r\")\n",
    "    x = [i for i in text]\n",
    "    neg_reviews.append(x)\n",
    "    neg_sentiment.append('negative')\n",
    "    text.close()\n",
    "    \n",
    "#################################\n",
    "    "
   ]
  },
  {
   "cell_type": "code",
   "execution_count": 292,
   "metadata": {},
   "outputs": [],
   "source": [
    "pos_df = pd.DataFrame(pos_reviews, columns = ['review'])\n",
    "pos_df.insert(1, \"sentiment\", pos_sentiment)"
   ]
  },
  {
   "cell_type": "code",
   "execution_count": 293,
   "metadata": {},
   "outputs": [],
   "source": [
    "neg_df = pd.DataFrame(neg_reviews, columns = ['review'])\n",
    "neg_df.insert(1, \"sentiment\", neg_sentiment)"
   ]
  },
  {
   "cell_type": "code",
   "execution_count": 294,
   "metadata": {},
   "outputs": [],
   "source": [
    "df = pd.concat([pos_df, neg_df], ignore_index = True)"
   ]
  },
  {
   "cell_type": "code",
   "execution_count": 295,
   "metadata": {},
   "outputs": [],
   "source": [
    "# Data Cleaning\n",
    "CLEANR = re.compile('<.*?>|&([a-z0-9]+|#[0-9]{1,6}|#x[0-9a-f]{1,6});')\n",
    "def cleanhtml(raw_html):\n",
    "    cleantext = re.sub(CLEANR, '', raw_html)\n",
    "    return cleantext\n",
    "df['review'] = df['review'].apply(lambda x: cleanhtml(x))"
   ]
  },
  {
   "cell_type": "code",
   "execution_count": 296,
   "metadata": {},
   "outputs": [
    {
     "name": "stdout",
     "output_type": "stream",
     "text": [
      "[('film', 20933), ('movie', 19074), ('like', 9036), ('good', 7721), ('just', 7152), ('story', 6778), ('time', 6515), ('great', 6418), ('really', 5473), ('people', 4479), ('best', 4320), ('love', 4302), ('life', 4201), ('way', 4037), ('films', 3811), ('think', 3654), ('movies', 3582), ('characters', 3557), ('character', 3516), ('don', 3482)]\n"
     ]
    }
   ],
   "source": [
    "# Positive reviews\n",
    "count_vect = CountVectorizer(stop_words = 'english')\n",
    "matrix = count_vect.fit_transform(df[df.sentiment == 'positive']['review'])\n",
    "freqs = zip(count_vect.get_feature_names(), matrix.sum(axis = 0).tolist()[0])\n",
    "#print sorted words \n",
    "print(sorted(freqs, key = lambda x: -x[1])[:20])            "
   ]
  },
  {
   "cell_type": "code",
   "execution_count": 297,
   "metadata": {},
   "outputs": [
    {
     "name": "stdout",
     "output_type": "stream",
     "text": [
      "[('movie', 24955), ('film', 19211), ('like', 11238), ('just', 10613), ('good', 7419), ('bad', 7394), ('really', 6262), ('time', 6208), ('don', 5361), ('story', 5203), ('people', 4806), ('make', 4719), ('plot', 4152), ('movies', 4081), ('acting', 4055), ('way', 3989), ('think', 3641), ('characters', 3597), ('watch', 3547), ('character', 3507)]\n"
     ]
    }
   ],
   "source": [
    "# Negative reviews\n",
    "count_vect = CountVectorizer(stop_words = 'english')\n",
    "matrix = count_vect.fit_transform(df[df.sentiment == 'negative']['review'])\n",
    "freqs = zip(count_vect.get_feature_names(), matrix.sum(axis = 0).tolist()[0])\n",
    "#print sorted words \n",
    "print(sorted(freqs, key = lambda x: -x[1])[:20])  "
   ]
  },
  {
   "cell_type": "code",
   "execution_count": 298,
   "metadata": {},
   "outputs": [],
   "source": [
    "X = df['review']\n",
    "y = df['sentiment']"
   ]
  },
  {
   "cell_type": "code",
   "execution_count": 299,
   "metadata": {},
   "outputs": [],
   "source": [
    "# train test split\n",
    "X_train, X_test, y_train, y_test = train_test_split(X, y, test_size=0.2, random_state=42)"
   ]
  },
  {
   "cell_type": "code",
   "execution_count": 300,
   "metadata": {},
   "outputs": [
    {
     "data": {
      "text/plain": [
       "Pipeline(steps=[('tfidf', TfidfVectorizer()), ('svc', LinearSVC())])"
      ]
     },
     "execution_count": 300,
     "metadata": {},
     "output_type": "execute_result"
    }
   ],
   "source": [
    "# create the pipline \n",
    "pipe = Pipeline([('tfidf', TfidfVectorizer()),\n",
    "                ('svc', LinearSVC())])\n",
    "\n",
    "# fit the pipeline  \n",
    "pipe.fit(X_train, y_train)"
   ]
  },
  {
   "cell_type": "code",
   "execution_count": 301,
   "metadata": {
    "scrolled": false
   },
   "outputs": [
    {
     "name": "stdout",
     "output_type": "stream",
     "text": [
      "              precision    recall  f1-score   support\n",
      "\n",
      "    negative       0.90      0.87      0.88      2485\n",
      "    positive       0.87      0.90      0.89      2515\n",
      "\n",
      "    accuracy                           0.89      5000\n",
      "   macro avg       0.89      0.89      0.89      5000\n",
      "weighted avg       0.89      0.89      0.89      5000\n",
      "\n"
     ]
    },
    {
     "data": {
      "text/plain": [
       "<sklearn.metrics._plot.confusion_matrix.ConfusionMatrixDisplay at 0x7fcdcd211910>"
      ]
     },
     "execution_count": 301,
     "metadata": {},
     "output_type": "execute_result"
    },
    {
     "data": {
      "image/png": "[encoded data removed]",
      "text/plain": [
       "<Figure size 432x288 with 2 Axes>"
      ]
     },
     "metadata": {
      "needs_background": "light"
     },
     "output_type": "display_data"
    }
   ],
   "source": [
    "# create the classification report and plot the confusion matrix\n",
    "preds = pipe.predict(X_test)\n",
    "print(classification_report(y_test, preds))\n",
    "plot_confusion_matrix(pipe, X_test, y_test, cmap = \"YlOrRd\")"
   ]
  },
  {
   "cell_type": "code",
   "execution_count": 302,
   "metadata": {},
   "outputs": [],
   "source": [
    "# RUN FROM HERE\n",
    "\n",
    "import os\n",
    "\n",
    "#################################\n",
    "\n",
    "directory = './aclImdb/test/pos'\n",
    "\n",
    "pos_reviews_test = []\n",
    "pos_sentiment_test = []\n",
    "\n",
    "for filename in os.listdir(directory):\n",
    "    f = os.path.join(directory, filename)\n",
    "    text = open(f, \"r\")\n",
    "    x = [i for i in text]\n",
    "    pos_reviews_test.append(x)\n",
    "    pos_sentiment_test.append('positive')\n",
    "    text.close()\n",
    "    \n",
    "#################################\n",
    "\n",
    "directory = './aclImdb/test/neg'\n",
    "\n",
    "neg_reviews_test = []\n",
    "neg_sentiment_test = []\n",
    "\n",
    "for filename in os.listdir(directory):\n",
    "    f = os.path.join(directory, filename)\n",
    "    text = open(f, \"r\")\n",
    "    x = [i for i in text]\n",
    "    neg_reviews_test.append(x)\n",
    "    neg_sentiment_test.append('negative')\n",
    "    text.close()\n",
    "    \n",
    "#################################"
   ]
  },
  {
   "cell_type": "code",
   "execution_count": 303,
   "metadata": {},
   "outputs": [],
   "source": [
    "pos_df_test = pd.DataFrame(pos_reviews, columns = ['review'])\n",
    "pos_df_test.insert(1, \"sentiment\", pos_sentiment)"
   ]
  },
  {
   "cell_type": "code",
   "execution_count": 304,
   "metadata": {},
   "outputs": [],
   "source": [
    "neg_df_test = pd.DataFrame(neg_reviews, columns = ['review'])\n",
    "neg_df_test.insert(1, \"sentiment\", neg_sentiment)"
   ]
  },
  {
   "cell_type": "code",
   "execution_count": 305,
   "metadata": {},
   "outputs": [],
   "source": [
    "df_test = pd.concat([pos_df_test, neg_df_test], ignore_index = True)"
   ]
  },
  {
   "cell_type": "code",
   "execution_count": 306,
   "metadata": {},
   "outputs": [],
   "source": [
    "# Data Cleaning\n",
    "CLEANR = re.compile('<.*?>|&([a-z0-9]+|#[0-9]{1,6}|#x[0-9a-f]{1,6});')\n",
    "def cleanhtml(raw_html):\n",
    "    cleantext = re.sub(CLEANR, '', raw_html)\n",
    "    return cleantext\n",
    "df_test['review'] = df_test['review'].apply(lambda x: cleanhtml(x))"
   ]
  },
  {
   "cell_type": "code",
   "execution_count": 307,
   "metadata": {},
   "outputs": [
    {
     "name": "stdout",
     "output_type": "stream",
     "text": [
      "[('film', 20933), ('movie', 19074), ('like', 9036), ('good', 7721), ('just', 7152), ('story', 6778), ('time', 6515), ('great', 6418), ('really', 5473), ('people', 4479), ('best', 4320), ('love', 4302), ('life', 4201), ('way', 4037), ('films', 3811), ('think', 3654), ('movies', 3582), ('characters', 3557), ('character', 3516), ('don', 3482)]\n"
     ]
    }
   ],
   "source": [
    "# Positive reviews\n",
    "count_vect = CountVectorizer(stop_words = 'english')\n",
    "matrix = count_vect.fit_transform(df_test[df_test.sentiment == 'positive']['review'])\n",
    "freqs = zip(count_vect.get_feature_names(), matrix.sum(axis = 0).tolist()[0])\n",
    "#print sorted words \n",
    "print(sorted(freqs, key = lambda x: -x[1])[:20]) "
   ]
  },
  {
   "cell_type": "code",
   "execution_count": 308,
   "metadata": {},
   "outputs": [
    {
     "name": "stdout",
     "output_type": "stream",
     "text": [
      "[('movie', 24955), ('film', 19211), ('like', 11238), ('just', 10613), ('good', 7419), ('bad', 7394), ('really', 6262), ('time', 6208), ('don', 5361), ('story', 5203), ('people', 4806), ('make', 4719), ('plot', 4152), ('movies', 4081), ('acting', 4055), ('way', 3989), ('think', 3641), ('characters', 3597), ('watch', 3547), ('character', 3507)]\n"
     ]
    }
   ],
   "source": [
    "# Negative reviews\n",
    "count_vect = CountVectorizer(stop_words = 'english')\n",
    "matrix = count_vect.fit_transform(df_test[df_test.sentiment == 'negative']['review'])\n",
    "freqs = zip(count_vect.get_feature_names(), matrix.sum(axis = 0).tolist()[0])\n",
    "#print sorted words \n",
    "print(sorted(freqs, key = lambda x: -x[1])[:20])  "
   ]
  },
  {
   "cell_type": "code",
   "execution_count": 309,
   "metadata": {},
   "outputs": [],
   "source": [
    "X_test = df_test['review']\n",
    "y_test = df_test['sentiment']"
   ]
  },
  {
   "cell_type": "code",
   "execution_count": 310,
   "metadata": {},
   "outputs": [
    {
     "name": "stdout",
     "output_type": "stream",
     "text": [
      "              precision    recall  f1-score   support\n",
      "\n",
      "    negative       0.97      0.97      0.97     12500\n",
      "    positive       0.97      0.97      0.97     12500\n",
      "\n",
      "    accuracy                           0.97     25000\n",
      "   macro avg       0.97      0.97      0.97     25000\n",
      "weighted avg       0.97      0.97      0.97     25000\n",
      "\n"
     ]
    },
    {
     "data": {
      "text/plain": [
       "<sklearn.metrics._plot.confusion_matrix.ConfusionMatrixDisplay at 0x7fcc4f4c2700>"
      ]
     },
     "execution_count": 310,
     "metadata": {},
     "output_type": "execute_result"
    },
    {
     "data": {
      "image/png": "[encoded data removed]",
      "text/plain": [
       "<Figure size 432x288 with 2 Axes>"
      ]
     },
     "metadata": {
      "needs_background": "light"
     },
     "output_type": "display_data"
    }
   ],
   "source": [
    "# create the classification report and plot the confusion matrix\n",
    "preds = pipe.predict(X_test)\n",
    "print(classification_report(y_test, preds))\n",
    "plot_confusion_matrix(pipe, X_test, y_test, cmap = \"YlOrRd\")"
   ]
  },
  {
   "cell_type": "code",
   "execution_count": null,
   "metadata": {},
   "outputs": [],
   "source": []
  }
 ],
 "metadata": {
  "kernelspec": {
   "display_name": "Python 3",
   "language": "python",
   "name": "python3"
  },
  "language_info": {
   "codemirror_mode": {
    "name": "ipython",
    "version": 3
   },
   "file_extension": ".py",
   "mimetype": "text/x-python",
   "name": "python",
   "nbconvert_exporter": "python",
   "pygments_lexer": "ipython3",
   "version": "3.8.3"
  }
 },
 "nbformat": 4,
 "nbformat_minor": 4
}
